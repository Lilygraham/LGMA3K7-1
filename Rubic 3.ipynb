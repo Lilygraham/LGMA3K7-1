{
 "cells": [
  {
   "cell_type": "code",
   "execution_count": 1,
   "id": "328808dd",
   "metadata": {},
   "outputs": [
    {
     "name": "stdout",
     "output_type": "stream",
     "text": [
      "Outcome\t\tLikelihood\n",
      "6\t\t0.1373\n",
      "2\t\t0.3245\n",
      "12\t\t0.0043\n",
      "4\t\t0.2205\n",
      "0\t\t0.2089\n",
      "8\t\t0.0743\n",
      "10\t\t0.0301\n"
     ]
    }
   ],
   "source": [
    "import random\n",
    "\n",
    "def drawtwo(nums):\n",
    "    return random.sample(nums, 2)\n",
    "\n",
    "def simulateprocess():\n",
    "    nums = list(range(1, 13))  \n",
    "\n",
    "    while len(nums) > 1:\n",
    "        drawnnums = drawtwo(nums)\n",
    "        smaller = min(drawnnums)\n",
    "        larger = max(drawnnums)\n",
    "        nums.remove(smaller)\n",
    "        nums.remove(larger)\n",
    "        diff = larger - smaller\n",
    "        nums.append(diff)\n",
    "\n",
    "    return nums[0]\n",
    "\n",
    "def calculatelikelihood(numsimulations):\n",
    "    outcomes = {}\n",
    "    totalsimulations = numsimulations\n",
    "\n",
    "    for _ in range(numsimulations):\n",
    "        result = simulateprocess()\n",
    "        if result in outcomes:\n",
    "            outcomes[result] += 1\n",
    "        else:\n",
    "            outcomes[result] = 1\n",
    "\n",
    "    likelihoods = {outcome: count / totalsimulations for outcome, count in outcomes.items()}\n",
    "    return likelihoods\n",
    "\n",
    "def printlikelihood(likelihoods):\n",
    "    print(\"Outcome\\t\\tLikelihood\")\n",
    "    for outcome, likelihood in likelihoods.items():\n",
    "        print(f\"{outcome}\\t\\t{likelihood:.4f}\")\n",
    "\n",
    "def main():\n",
    "    numsimulations = 100000\n",
    "    likelihoods = calculatelikelihood(numsimulations)\n",
    "    printlikelihood(likelihoods)\n",
    "\n",
    "if __name__ == \"__main__\":\n",
    "    main()\n"
   ]
  },
  {
   "cell_type": "code",
   "execution_count": null,
   "id": "82e9ea11",
   "metadata": {},
   "outputs": [],
   "source": [
    "import random\n",
    "import matplotlib.pyplot as plt\n",
    "\n",
    "def simulateprocess():\n",
    "    nums = list(range(1, 2025))  \n",
    "\n",
    "    while len(nums) > 1:\n",
    "        drawnnums = random.sample(nums, 2)\n",
    "        difference = max(drawnnums) - min(drawnnums)\n",
    "        nums.remove(min(drawnnums))\n",
    "        nums.remove(max(drawnnums))\n",
    "        nums.append(difference)\n",
    "\n",
    "    return nums[0]\n",
    "\n",
    "def simulateandplot(numsimulations):\n",
    "    outcomes = []\n",
    "    for _ in range(numsimulations):\n",
    "        outcome = simulateprocess()\n",
    "        outcomes.append(outcome)\n",
    "\n",
    "    outcomecounts = {i: outcomes.count(i) for i in range(1, 2025)}\n",
    "\n",
    "    plt.bar(outcomecounts.keys(), outcomecounts.values())\n",
    "    plt.xlabel('Remaining Number')\n",
    "    plt.ylabel('Frequency')\n",
    "    plt.title('Likelihood of Remaining Numbers After Simulations')\n",
    "    plt.grid(axis='y', linestyle='--', alpha=0.7)\n",
    "    plt.show()\n",
    "\n",
    "simulateandplot(50000) \n"
   ]
  },
  {
   "cell_type": "code",
   "execution_count": null,
   "id": "24e8a3c0",
   "metadata": {},
   "outputs": [],
   "source": []
  }
 ],
 "metadata": {
  "kernelspec": {
   "display_name": "Python 3 (ipykernel)",
   "language": "python",
   "name": "python3"
  },
  "language_info": {
   "codemirror_mode": {
    "name": "ipython",
    "version": 3
   },
   "file_extension": ".py",
   "mimetype": "text/x-python",
   "name": "python",
   "nbconvert_exporter": "python",
   "pygments_lexer": "ipython3",
   "version": "3.9.7"
  }
 },
 "nbformat": 4,
 "nbformat_minor": 5
}
