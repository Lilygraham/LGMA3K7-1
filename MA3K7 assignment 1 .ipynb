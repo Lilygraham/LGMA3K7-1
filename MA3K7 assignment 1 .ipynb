{
 "cells": [
  {
   "cell_type": "code",
   "execution_count": null,
   "id": "d99584ed",
   "metadata": {},
   "outputs": [],
   "source": [
    "# Set up our seq func\n",
    "def generateseq(a, b, n):\n",
    "    seq = [a, b]\n",
    "\n",
    "    for _ in range(n - 2):\n",
    "        nextterm = (seq[-2] + seq[-1]) % 10 #Making it of the appropriate form \n",
    "        seq.append(nextterm)\n",
    "    \n",
    "    return seq\n",
    "\n",
    "# Allowing for inputs of first, second term and the number of terms we want to find \n",
    "a = int(input(\"Enter the first number: \"))\n",
    "b = int(input(\"Enter the second number: \"))\n",
    "n = int(input(\"Enter the required length of the sequence: \"))\n",
    "\n",
    "# To keep the values in the range needed \n",
    "if 0 <= a <= 9 and 0 <= b <= 9:\n",
    "    resultseq = generateseq(a, b, n)\n",
    "    print(f\"The corresponding sequence is: {resultseq}\")\n",
    "else:\n",
    "    print(\"Please enter integers between 0 and 9.\")\n",
    "\n"
   ]
  },
  {
   "cell_type": "code",
   "execution_count": null,
   "id": "2e4f065c",
   "metadata": {},
   "outputs": [],
   "source": [
    "import matplotlib.pyplot as plt\n",
    "# Using same func as before \n",
    "\n",
    "def generateseq(a, b, n):\n",
    "    seq = [a, b]\n",
    "    for _ in range(n - 2):\n",
    "        nextterm = (seq[-1] + seq[-2]) % 10\n",
    "        seq.append(nextterm)\n",
    "    return seq\n",
    "# Creating the plot of our seq\n",
    "def plotseq(seq):\n",
    "    x = list(range(len(seq)))\n",
    "    plt.plot(x, seq, marker='o', linestyle='-', color='r')\n",
    "    plt.xlabel('Term')\n",
    "    plt.ylabel('Terms Value')\n",
    "    plt.show()\n",
    "\n",
    "# To allow for the input of our values\n",
    "a = int(input(\"Enter the first integer (0-9): \"))\n",
    "b = int(input(\"Enter the second integer (0-9): \"))\n",
    "n = int(input(\"Enter the required length of the sequence: \"))\n",
    "# To keep the values in the required range \n",
    "if 0 <= a <= 9 and 0 <= b <= 9:\n",
    "    # Generate and plot the sequence  \n",
    "    seq = generateseq(a, b, n)\n",
    "    print(\"Generated Sequence:\", seq)\n",
    "    plotseq(seq)\n",
    "else:\n",
    "    print(\"Invalid input. Please enter integers between 0 and 9.\")"
   ]
  },
  {
   "cell_type": "code",
   "execution_count": null,
   "id": "594b071c",
   "metadata": {},
   "outputs": [],
   "source": []
  }
 ],
 "metadata": {
  "kernelspec": {
   "display_name": "Python 3 (ipykernel)",
   "language": "python",
   "name": "python3"
  },
  "language_info": {
   "codemirror_mode": {
    "name": "ipython",
    "version": 3
   },
   "file_extension": ".py",
   "mimetype": "text/x-python",
   "name": "python",
   "nbconvert_exporter": "python",
   "pygments_lexer": "ipython3",
   "version": "3.9.7"
  }
 },
 "nbformat": 4,
 "nbformat_minor": 5
}
