{
 "cells": [
  {
   "cell_type": "code",
   "execution_count": null,
   "id": "c1f2a125",
   "metadata": {},
   "outputs": [],
   "source": [
    "def findcombos(target, currentstep, currentseq):\n",
    "    if currentstep == target:\n",
    "        print(\" \".join(currentseq))\n",
    "    elif currentstep < target:\n",
    "        findcombos(target, currentstep + 1, currentseq + ['R']) #To denote flipping a 1, 1 step to the right\n",
    "        findcombos(target, currentstep + 2, currentseq + ['RR']) #To denote flipping a 2, 2 steps to the right\n",
    "\n",
    "targetstep = 25\n",
    "findcombos(targetstep, 1, [])\n"
   ]
  },
  {
   "cell_type": "code",
   "execution_count": null,
   "id": "88fa6899",
   "metadata": {},
   "outputs": [],
   "source": [
    "def calculateprob(n):\n",
    "    if n == 1:\n",
    "        return 1\n",
    "    else:\n",
    "        return 1 - 0.5 * calculateprob(n - 1)\n",
    "\n",
    "prob25 = calculateprob(25)\n",
    "print(\"Probability of landing on or past step 25:\", prob25)\n"
   ]
  },
  {
   "cell_type": "code",
   "execution_count": null,
   "id": "d70b6659",
   "metadata": {},
   "outputs": [],
   "source": [
    "import matplotlib.pyplot as plt\n",
    "\n",
    "def calculateprob(n):\n",
    "    if n == 1:\n",
    "        return 1\n",
    "    else:\n",
    "        return 1 - 0.5 * calculateprob(n - 1)\n",
    "\n",
    "steps = list(range(5, 20))\n",
    "probs = [calculateprob(n) for n in steps]\n",
    "\n",
    "plt.plot(steps, probs)\n",
    "plt.xlabel('Step Number')\n",
    "plt.ylabel('Probability')\n",
    "plt.title('Probability of Landing on Each Step')\n",
    "plt.grid(True)\n",
    "plt.show()\n"
   ]
  },
  {
   "cell_type": "code",
   "execution_count": null,
   "id": "3a909684",
   "metadata": {},
   "outputs": [],
   "source": [
    "import math\n",
    "#For odd step number\n",
    "def calculateprob(n):\n",
    "    total = 0\n",
    "    for i in range(1, (n-1)//2 + 1):\n",
    "        term = (0.5 ** (n - i)) * (math.factorial(n - i - 1) / (math.factorial(i - 1) * math.factorial(n - 2 * i)))\n",
    "        total += term\n",
    "    return 1 - total\n",
    "\n",
    "n = 25\n",
    "prob = calculateprob(n)\n",
    "print(f\"Probability for n = {n}: {prob}\")\n"
   ]
  },
  {
   "cell_type": "code",
   "execution_count": null,
   "id": "567a7df4",
   "metadata": {},
   "outputs": [],
   "source": [
    "import math\n",
    "#For even step number\n",
    "def calculateprob(n):\n",
    "    total = 0\n",
    "    for i in range(1, (n)//2 + 1):\n",
    "        term = (0.5 ** (n - i)) * (math.factorial(n - i ) / (math.factorial(i - 1) * math.factorial(n + 1 - 2 * i)))\n",
    "        total += term\n",
    "    return total\n",
    "\n",
    "n = 2\n",
    "prob = calculateprob(n)\n",
    "print(f\"Probability for n = {n}: {prob}\")\n",
    "\n"
   ]
  },
  {
   "cell_type": "code",
   "execution_count": null,
   "id": "f208d558",
   "metadata": {},
   "outputs": [],
   "source": []
  }
 ],
 "metadata": {
  "kernelspec": {
   "display_name": "Python 3 (ipykernel)",
   "language": "python",
   "name": "python3"
  },
  "language_info": {
   "codemirror_mode": {
    "name": "ipython",
    "version": 3
   },
   "file_extension": ".py",
   "mimetype": "text/x-python",
   "name": "python",
   "nbconvert_exporter": "python",
   "pygments_lexer": "ipython3",
   "version": "3.9.7"
  }
 },
 "nbformat": 4,
 "nbformat_minor": 5
}
